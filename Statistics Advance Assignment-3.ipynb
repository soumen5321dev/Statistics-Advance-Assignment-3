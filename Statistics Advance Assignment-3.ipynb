{
 "cells": [
  {
   "cell_type": "markdown",
   "id": "aed71155-5f71-44d2-ae2b-dda04a6a7bda",
   "metadata": {},
   "source": [
    "# Q1: What is Estimation Statistics? Explain point estimate and interval estimate."
   ]
  },
  {
   "cell_type": "code",
   "execution_count": null,
   "id": "85772d90-d202-4448-9264-ad9e97acf7c8",
   "metadata": {},
   "outputs": [],
   "source": [
    "Estimation: It is an observed numerical value used to estimate an unknown population parameter.\n",
    "\n",
    "Point Estimate: Single numerical value used to estimate the unknown population parameter.\n",
    "\n",
    "Interval Estimate: Range of values used to estimate the unknown population parameters."
   ]
  },
  {
   "cell_type": "markdown",
   "id": "29567c69-34b9-4b37-90f6-a10aa5243b9d",
   "metadata": {},
   "source": [
    "# Q2. Write a Python function to estimate the population mean using a sample mean and standard deviation."
   ]
  },
  {
   "cell_type": "code",
   "execution_count": 3,
   "id": "6ea2601f-9c10-4489-a656-ef40e583420f",
   "metadata": {},
   "outputs": [
    {
     "name": "stdout",
     "output_type": "stream",
     "text": [
      "Estimated population mean is between 46.27 and 53.73 with 95.0% confidence.\n"
     ]
    }
   ],
   "source": [
    "from scipy import stats\n",
    "import numpy as np\n",
    "\n",
    "def estimate_population_mean(sample_mean, sample_std, sample_size, confidence_level=0.95):\n",
    "    \"\"\"\n",
    "    Estimate the population mean using the sample mean, standard deviation, and sample size.\n",
    "\n",
    "    Parameters:\n",
    "    sample_mean (float): Mean of the sample\n",
    "    sample_std (float): Standard deviation of the sample\n",
    "    sample_size (int): Number of observations in the sample\n",
    "    confidence_level (float): Confidence level for the interval (default is 0.95)\n",
    "\n",
    "    Returns:\n",
    "    (float, float): Lower and upper bound of the confidence interval for the population mean\n",
    "    \"\"\"\n",
    "    # Calculate the standard error of the mean (SEM)\n",
    "    standard_error = sample_std / np.sqrt(sample_size)\n",
    "    \n",
    "    # Calculate the t-critical value for the given confidence level and degrees of freedom\n",
    "    t_critical = stats.t.ppf((1 + confidence_level) / 2, df=sample_size-1)\n",
    "    \n",
    "    # Calculate the margin of error\n",
    "    margin_of_error = t_critical * standard_error\n",
    "    \n",
    "    # Calculate the confidence interval\n",
    "    lower_bound = sample_mean - margin_of_error\n",
    "    upper_bound = sample_mean + margin_of_error\n",
    "    \n",
    "    return lower_bound, upper_bound\n",
    "\n",
    "# Example usage\n",
    "sample_mean = 50\n",
    "sample_std = 10\n",
    "sample_size = 30\n",
    "confidence_level = 0.95\n",
    "\n",
    "lower_bound, upper_bound = estimate_population_mean(sample_mean, sample_std, sample_size, confidence_level)\n",
    "print(f\"Estimated population mean is between {lower_bound:.2f} and {upper_bound:.2f} with {confidence_level*100}% confidence.\")"
   ]
  },
  {
   "cell_type": "markdown",
   "id": "cc045b2d-317e-4f8e-a1ef-f5c2c0f33480",
   "metadata": {},
   "source": [
    "# Q3: What is Hypothesis testing? Why is it used? State the importance of Hypothesis testing."
   ]
  },
  {
   "cell_type": "code",
   "execution_count": null,
   "id": "812e70cc-dd9c-4752-869d-af4de83ecba9",
   "metadata": {},
   "outputs": [],
   "source": [
    "What is Hypothesis testing?\n",
    "\n",
    "Hypothesis testing is a statistical method used to make decisions or inferences about a population based on sample\n",
    "data. It involves formulating a statement (hypothesis) about a population parameter and then using statistical\n",
    "techniques to determine whether the data supports or refutes that hypothesis.\n",
    "\n",
    "The process typically involves two competing hypotheses:\n",
    "\n",
    "(i) Null Hypothesis (H₀): This is a statement of no effect, no difference, or no relationship. It assumes that any\n",
    "observed differences in the data are due to random chance.\n",
    "(ii) Alternative Hypothesis (H₁ or Ha): This is a statement that contradicts the null hypothesis. It proposes that\n",
    "there is a real effect, difference, or relationship.\n",
    "\n",
    "Why it is used?\n",
    "\n",
    "Hypothesis testing is used for several reasons:\n",
    "1. Decision Making: It helps in making decisions about the validity of a claim or assumption about a population.\n",
    "For example, a company might want to know if a new product is more effective than an existing one, and hypothesis\n",
    "testing can provide a statistical basis for that decision.\n",
    "\n",
    "2. Inference: It allows researchers to make inferences about population parameters based on sample data, enabling\n",
    "them to draw conclusions beyond the immediate data set.\n",
    "\n",
    "3. Scientific Research: In scientific experiments, hypothesis testing is used to validate or refute theories and\n",
    "models. It provides a formal framework for testing predictions and hypotheses.\n",
    "\n",
    "4. Quality Control: In industries, hypothesis testing is often used for quality control, such as determining whether\n",
    "a manufacturing process is producing items within acceptable limits.\n",
    "\n",
    "State the importance of Hypothesis Testing?\n",
    "\n",
    "1. Provides a Structured Approach: Hypothesis testing offers a systematic method for testing claims and making\n",
    "decisions based on data. This reduces the influence of bias and subjective judgment.\n",
    "\n",
    "2. Supports Decision-Making: By providing a clear framework for evaluating evidence, hypothesis testing helps\n",
    "businesses, researchers, and policymakers make informed decisions.\n",
    "\n",
    "3. Statistical Rigor: Hypothesis testing ensures that decisions are based on rigorous statistical analysis,\n",
    "increasing the credibility and reliability of the results.\n",
    "\n",
    "4. Risk Management: It quantifies the risk of making incorrect decisions (such as rejecting a true null hypothesis\n",
    "or failing to reject a false one), allowing for better risk management."
   ]
  },
  {
   "cell_type": "markdown",
   "id": "225c29b3-74cf-49bb-9fcd-4e0d0e66f51f",
   "metadata": {},
   "source": [
    "# Q4. Create a hypothesis that states whether the average weight of male college students is greater than the average weight of female college students."
   ]
  },
  {
   "cell_type": "code",
   "execution_count": null,
   "id": "79ac528a-cacf-4e70-a7ed-29ad652c23b9",
   "metadata": {},
   "outputs": [],
   "source": [
    "Null Hypothesis (H₀):\n",
    "The null hypothesis is a statement that there is no difference or that the difference is in the opposite direction\n",
    "than expected. In this case, it can be stated as:\n",
    "H₀: μ₁ ≤ μ₂\n",
    "Where,  μ1 is the average weight of male college students.\n",
    "        μ2 is the average weight of female college students.\n",
    "\n",
    "Alternative Hypothesis (H₁):\n",
    "The alternative hypothesis is a statement that there is a difference or that the difference is in the direction we\n",
    "expect. In this case, it can be stated as:\n",
    "H₁: μ₁ > μ₂\n",
    "\n",
    "Next Steps:\n",
    "1. Collect Data: Obtain a random sample of weights from male and female college students.\n",
    "2. Perform a Statistical Test: Use a t-test or another appropriate test to compare the means.\n",
    "3. Analyze Results: If the test results provide enough evidence to reject the null hypothesis, you can conclude that\n",
    "   the average weight of male college students is significantly greater than that of female college students."
   ]
  },
  {
   "cell_type": "markdown",
   "id": "e7e223d7-e84f-4472-bc7a-461111945e86",
   "metadata": {},
   "source": [
    "# Q5. Write a Python script to conduct a hypothesis test on the difference between two population means, given a sample from each population."
   ]
  },
  {
   "cell_type": "code",
   "execution_count": 4,
   "id": "30136ec8-4264-4952-b74a-52819d067b50",
   "metadata": {},
   "outputs": [
    {
     "name": "stdout",
     "output_type": "stream",
     "text": [
      "t-statistic: 6.0404\n",
      "p-value: 0.0000\n",
      "Mean of sample 1: 71.40\n",
      "Mean of sample 2: 65.40\n",
      "Standard deviation of sample 1: 2.22\n",
      "Standard deviation of sample 2: 2.22\n",
      "Conclusion: Reject the null hypothesis (H₀)\n"
     ]
    }
   ],
   "source": [
    "import numpy as np\n",
    "from scipy import stats\n",
    "\n",
    "def two_sample_t_test(sample1, sample2, alpha=0.05):\n",
    "    \"\"\"\n",
    "    Perform a two-sample t-test to test the difference between two population means.\n",
    "\n",
    "    Parameters:\n",
    "    sample1 (array-like): Sample data from the first population\n",
    "    sample2 (array-like): Sample data from the second population\n",
    "    alpha (float): Significance level (default is 0.05)\n",
    "\n",
    "    Returns:\n",
    "    dict: A dictionary containing the test statistic, p-value, and conclusion\n",
    "    \"\"\"\n",
    "    # Calculate the means and standard deviations of the samples\n",
    "    mean1 = np.mean(sample1)\n",
    "    mean2 = np.mean(sample2)\n",
    "    std1 = np.std(sample1, ddof=1)  # Sample standard deviation (ddof=1)\n",
    "    std2 = np.std(sample2, ddof=1)\n",
    "\n",
    "    # Perform a two-sample t-test\n",
    "    t_stat, p_value = stats.ttest_ind(sample1, sample2, equal_var=False)\n",
    "    \n",
    "    # Determine if we reject the null hypothesis\n",
    "    conclusion = 'Reject the null hypothesis (H₀)' if p_value < alpha else 'Fail to reject the null hypothesis (H₀)'\n",
    "\n",
    "    # Return results\n",
    "    return {\n",
    "        't_statistic': t_stat,\n",
    "        'p_value': p_value,\n",
    "        'mean1': mean1,\n",
    "        'mean2': mean2,\n",
    "        'std1': std1,\n",
    "        'std2': std2,\n",
    "        'conclusion': conclusion\n",
    "    }\n",
    "\n",
    "# Example usage:\n",
    "# Sample data from two populations (e.g., weights of male and female college students)\n",
    "sample1 = [70, 72, 68, 75, 73, 71, 69, 74, 70, 72]  # Sample from population 1 (e.g., male students)\n",
    "sample2 = [65, 67, 66, 64, 63, 68, 69, 62, 64, 66]  # Sample from population 2 (e.g., female students)\n",
    "\n",
    "# Perform the hypothesis test\n",
    "results = two_sample_t_test(sample1, sample2)\n",
    "\n",
    "# Display the results\n",
    "print(f\"t-statistic: {results['t_statistic']:.4f}\")\n",
    "print(f\"p-value: {results['p_value']:.4f}\")\n",
    "print(f\"Mean of sample 1: {results['mean1']:.2f}\")\n",
    "print(f\"Mean of sample 2: {results['mean2']:.2f}\")\n",
    "print(f\"Standard deviation of sample 1: {results['std1']:.2f}\")\n",
    "print(f\"Standard deviation of sample 2: {results['std2']:.2f}\")\n",
    "print(f\"Conclusion: {results['conclusion']}\")"
   ]
  },
  {
   "cell_type": "markdown",
   "id": "da5ed19d-37ff-4dfc-965a-7260a45c1fbf",
   "metadata": {},
   "source": [
    "# Q6: What is a null and alternative hypothesis? Give some examples."
   ]
  },
  {
   "cell_type": "code",
   "execution_count": null,
   "id": "ca6b9cba-7f25-4522-901b-dc4c45548e12",
   "metadata": {},
   "outputs": [],
   "source": [
    "What is a Null Hypothesis (H₀)?\n",
    "Ans: The null hypothesis (H₀) is a statement or assumption that there is no effect, no difference, or no relationship\n",
    "between variables. It is a default position that indicates that any observed differences or effects in the data\n",
    "are due to random chance or sampling variability. The null hypothesis is typically the hypothesis that researchers\n",
    "seek to test and possibly reject.\n",
    "\n",
    "What is an Alternative Hypothesis (H₁ or Ha)?\n",
    "The alternative hypothesis (H₁ or Ha) is a statement that contradicts the null hypothesis. It suggests that there is\n",
    "a real effect, difference, or relationship between variables. If the null hypothesis is rejected based on the data,\n",
    "the alternative hypothesis is accepted as a plausible explanation.\n",
    "\n",
    "Examples of Null and Alternative Hypotheses:\n",
    "Example 1: Testing the Effectiveness of a New Drug\n",
    "Null Hypothesis (H₀): The new drug has no effect on blood pressure; it is no more effective than a placebo.\n",
    "H0: μdrug=μplacebo\n",
    "Alternative Hypothesis (H₁): The new drug lowers blood pressure more effectively than a placebo.\n",
    "H1: μdrug<μplacebo\n",
    "\n",
    "Example 2: Comparing the Means of Two Groups (e.g., Male and Female Students Test Scores)\n",
    "Null Hypothesis (H₀): There is no difference in the average test scores between male and female students.\n",
    "H0: μmale=μfemale\n",
    "Alternative Hypothesis (H₁): There is a difference in the average test scores between male and female students.\n",
    "H1: μmale!=μfemale"
   ]
  },
  {
   "cell_type": "markdown",
   "id": "0fc9dba5-e0ef-4975-9ffa-e7207968e243",
   "metadata": {},
   "source": [
    "# Q7: Write down the steps involved in hypothesis testing."
   ]
  },
  {
   "cell_type": "code",
   "execution_count": null,
   "id": "05018082-49a4-4fcb-adde-73e5b84f5728",
   "metadata": {},
   "outputs": [],
   "source": [
    "Steps Involved in Hypothesis Testing:\n",
    "\n",
    "1. State the Hypotheses:\n",
    "\n",
    "(i) Formulate two competing hypotheses: the null hypothesis (H₀) and the alternative hypothesis (H₁ or Ha).\n",
    "(ii) Example: H₀: μ = μ₀ (no effect or no difference), H₁: μ ≠ μ₀ (there is an effect or difference).\n",
    "\n",
    "2. Set the Significance Level (α):\n",
    "\n",
    "Choose the significance level, typically α = 0.05 or 5%, which defines the probability of rejecting the null\n",
    "hypothesis when it is actually true (Type I error).\n",
    "\n",
    "3. Select the Appropriate Test Statistic:\n",
    "\n",
    "(i) Depending on the data and research question, choose the appropriate statistical test (e.g., t-test, z-test,\n",
    "chi-square test, etc.).\n",
    "(ii) Calculate the test statistic based on the sample data.\n",
    "\n",
    "4. Determine the Decision Rule:\n",
    "\n",
    "(i) Identify the critical value(s) from the statistical distribution corresponding to the chosen significance level\n",
    "(α).\n",
    "(ii) Define the decision rule: Reject H₀ if the test statistic falls in the critical region, otherwise fail to\n",
    "reject H₀.\n",
    "\n",
    "5. Calculate the Test Statistic and P-value:\n",
    "\n",
    "(i) Perform the calculations to obtain the test statistic from your sample data.\n",
    "(ii) Compute the p-value, which represents the probability of observing the test statistic under the null hypothesis.\n",
    "\n",
    "6. Make a Decision:\n",
    "\n",
    "(i) Compare the p-value with the significance level (α).\n",
    "(ii) If p-value ≤ α, reject the null hypothesis (H₀).\n",
    "(iii) If p-value > α, fail to reject the null hypothesis (H₀).\n",
    "\n",
    "7. Draw a Conclusion:\n",
    "\n",
    "Interpret the results in the context of the research question. State whether there is enough evidence to support\n",
    "the alternative hypothesis or if the null hypothesis cannot be rejected."
   ]
  },
  {
   "cell_type": "markdown",
   "id": "4770a9d1-7702-424d-b91b-d3f33e460c21",
   "metadata": {},
   "source": [
    "# Q8. Define p-value and explain its significance in hypothesis testing."
   ]
  },
  {
   "cell_type": "code",
   "execution_count": null,
   "id": "212f0bdb-99db-4307-becc-d7e162559be5",
   "metadata": {},
   "outputs": [],
   "source": [
    "Definition of p-value:\n",
    "\n",
    "The p-value (probability value) is the probability of obtaining test results at least as extreme as the observed\n",
    "results, assuming that the null hypothesis (H₀) is true. It quantifies the evidence against the null hypothesis.\n",
    "\n",
    "Significance of p-value in Hypothesis Testing:\n",
    "\n",
    "1. Decision-Making Tool:\n",
    "The p-value helps in making a decision regarding the null hypothesis. It indicates how compatible the sample data\n",
    "is with the null hypothesis.\n",
    "\n",
    "2. Comparison with Significance Level (α):\n",
    "(i) The p-value is compared to the pre-determined significance level (α), usually set at 0.05 (5%).\n",
    "(ii) If p-value ≤ α: There is enough evidence to reject the null hypothesis (statistically significant result).\n",
    "(iii)If p-value > α: There is not enough evidence to reject the null hypothesis (statistically insignificant result).\n",
    "\n",
    "3. Measure of Evidence:\n",
    "(i) A smaller p-value indicates stronger evidence against the null hypothesis, suggesting that the observed data is\n",
    "less likely under the assumption that H₀ is true.\n",
    "(ii) Conversely, a larger p-value suggests weaker evidence against the null hypothesis, meaning the data is more\n",
    "consistent with H₀.\n",
    "\n",
    "4. Limitations:\n",
    "(i) The p-value alone does not measure the size of an effect or the importance of a result.\n",
    "(ii) It also does not provide the probability that the null hypothesis is true or false."
   ]
  },
  {
   "cell_type": "markdown",
   "id": "3e8503e5-f742-46ce-91aa-e67dc5de0b00",
   "metadata": {},
   "source": [
    "# Q9. Generate a Student's t-distribution plot using Python's matplotlib library, with the degrees of freedom parameter set to 10."
   ]
  },
  {
   "cell_type": "code",
   "execution_count": 6,
   "id": "68d7a61e-3b57-46bd-9dea-ea25510620e7",
   "metadata": {},
   "outputs": [
    {
     "data": {
      "image/png": "[encoded data removed]",
      "text/plain": [
       "<Figure size 800x600 with 1 Axes>"
      ]
     },
     "metadata": {},
     "output_type": "display_data"
    }
   ],
   "source": [
    "import numpy as np\n",
    "import matplotlib.pyplot as plt\n",
    "from scipy.stats import t\n",
    "\n",
    "# Degrees of freedom\n",
    "df = 10\n",
    "\n",
    "# Generate x values (t-distribution's range)\n",
    "x = np.linspace(-4, 4, 1000)\n",
    "\n",
    "# Generate y values (t-distribution's probability density function)\n",
    "y = t.pdf(x, df)\n",
    "\n",
    "# Plot the t-distribution\n",
    "plt.figure(figsize=(8, 6))\n",
    "plt.plot(x, y, label=f\"Student's t-distribution (df={df})\", color='blue')\n",
    "\n",
    "# Add title and labels\n",
    "plt.title(\"Student's t-Distribution (Degrees of Freedom = 10)\")\n",
    "plt.xlabel(\"x\")\n",
    "plt.ylabel(\"Probability Density\")\n",
    "\n",
    "# Add a legend\n",
    "plt.legend()\n",
    "\n",
    "# Show grid\n",
    "plt.grid(True)\n",
    "\n",
    "# Show the plot\n",
    "plt.show()"
   ]
  },
  {
   "cell_type": "markdown",
   "id": "f99ea504-0f7d-42a6-90f8-188f1524cfdd",
   "metadata": {},
   "source": [
    "# Q10. Write a Python program to calculate the two-sample t-test for independent samples, given two random samples of equal size and a null hypothesis that the population means are equal."
   ]
  },
  {
   "cell_type": "code",
   "execution_count": 5,
   "id": "a4fc01a5-2a4b-409f-a38f-7169e3cd0e6d",
   "metadata": {},
   "outputs": [
    {
     "name": "stdout",
     "output_type": "stream",
     "text": [
      "Two-Sample t-Test Results:\n",
      "T-statistic: 0.8897\n",
      "P-value: 0.3773\n",
      "Fail to reject the null hypothesis: The population means are not significantly different.\n"
     ]
    }
   ],
   "source": [
    "import numpy as np\n",
    "from scipy import stats\n",
    "\n",
    "# Generate two random samples of equal size\n",
    "np.random.seed(0)  # For reproducibility\n",
    "sample1 = np.random.normal(loc=5, scale=1, size=30)  # Sample 1: mean=5, std=1, size=30\n",
    "sample2 = np.random.normal(loc=5.5, scale=1, size=30)  # Sample 2: mean=5.5, std=1, size=30\n",
    "\n",
    "# Perform a two-sample t-test for independent samples\n",
    "t_statistic, p_value = stats.ttest_ind(sample1, sample2)\n",
    "\n",
    "# Output the results\n",
    "print(f\"Two-Sample t-Test Results:\")\n",
    "print(f\"T-statistic: {t_statistic:.4f}\")\n",
    "print(f\"P-value: {p_value:.4f}\")\n",
    "\n",
    "# Interpret the results\n",
    "alpha = 0.05\n",
    "if p_value < alpha:\n",
    "    print(\"Reject the null hypothesis: The population means are significantly different.\")\n",
    "else:\n",
    "    print(\"Fail to reject the null hypothesis: The population means are not significantly different.\")"
   ]
  },
  {
   "cell_type": "markdown",
   "id": "11efff7d-3479-47ad-933c-b6705cb0bd5c",
   "metadata": {},
   "source": [
    "# Q11: What is Student’s t distribution? When to use the t-Distribution."
   ]
  },
  {
   "cell_type": "code",
   "execution_count": null,
   "id": "eb42972e-d72c-4c99-a933-d4091edcd8e2",
   "metadata": {},
   "outputs": [],
   "source": [
    "What is Student's t-Distribution?\n",
    "Student's t-distribution (or simply t-distribution) is a probability distribution that is used to estimate\n",
    "population parameters when the sample size is small, and the population standard deviation is unknown. It is similar\n",
    "in shape to the standard normal distribution (bell-shaped and symmetric), but has heavier tails, which means it is\n",
    "more prone to producing values that fall far from the mean.\n",
    "\n",
    "The t-distribution is defined by a parameter called degrees of freedom (df), which is related to the sample size.\n",
    "As the degrees of freedom increase (typically with larger sample sizes), the t-distribution approaches the standard\n",
    "normal distribution (Z-distribution).\n",
    "\n",
    "\n",
    "When to Use the t-Distribution?\n",
    "\n",
    "1. Small Sample Sizes (n < 30):\n",
    "The t-distribution is often used when the sample size is small (typically less than 30). When sample sizes are\n",
    "larger, the t-distribution and the normal distribution become nearly identical.\n",
    "\n",
    "2. Unknown Population Standard Deviation:\n",
    "Use the t-distribution when the population standard deviation (σ) is unknown, and you have to estimate it using the \n",
    "sample standard deviation (s).\n",
    "\n",
    "3. When Performing Hypothesis Tests or Confidence Intervals for Means:\n",
    "The t-distribution is used when conducting t-tests for hypothesis testing (e.g., one-sample, two-sample, or paired\n",
    "t-tests) and when constructing confidence intervals for the population mean."
   ]
  },
  {
   "cell_type": "markdown",
   "id": "2d7c4808-cfc1-497a-95f1-a7e81968999a",
   "metadata": {},
   "source": [
    "# Q12: What is t-statistic? State the formula for t-statistic."
   ]
  },
  {
   "cell_type": "code",
   "execution_count": null,
   "id": "bd44d9e0-c43e-4592-a6ec-2bf25957f82d",
   "metadata": {},
   "outputs": [],
   "source": [
    "What is a t-Statistic?\n",
    "The t-statistic is a standardized value that measures how far a sample mean is from the hypothesized population\n",
    "mean, relative to the variation in the sample data. It is used in hypothesis testing to determine whether to reject\n",
    "the null hypothesis. The t-statistic accounts for sample size and variability, making it a crucial component in\n",
    "tests involving small sample sizes."
   ]
  },
  {
   "cell_type": "markdown",
   "id": "76cf10f2-7041-4350-86d0-f36bd5c23e38",
   "metadata": {},
   "source": [
    "# Q13. A coffee shop owner wants to estimate the average daily revenue for their shop. They take a random sample of 50 days and find the sample mean revenue to be $500 with a standard deviation of $50. Estimate the population mean revenue with a 95% confidence interval."
   ]
  },
  {
   "cell_type": "code",
   "execution_count": null,
   "id": "8d429faf-fc14-4a23-88a2-c2a174d89d68",
   "metadata": {},
   "outputs": [],
   "source": [
    "1. Given data, Sample mean=$500 \n",
    "Sample standard deviation (s) = $50\n",
    "Sample size (n) = 50\n",
    "Confidence level = 95%\n",
    "\n",
    "2. Determine the appropriate z-score for a 95% confidence level:\n",
    "For a 95% confidence interval, the z-score corresponds to the critical value that leaves 2.5% in each tail of the\n",
    "standard normal distribution.\n",
    "\n",
    "The z-score for a 95% confidence level is approximately: z=1.96\n",
    "\n",
    "3. Calculate the standard error of the mean (SEM):\n",
    "SEM = 50/0.071 = 7.071\n",
    "\n",
    "4. Calculate the margin of error (MOE):\n",
    "\n",
    "Substituting the values: MOE=1.96×7.071≈13.87\n",
    "\n",
    "5. Calculate the confidence interval:\n",
    "Confidence interval=(500−13.87,500+13.87)\n",
    "Confidence interval=(486.13,513.87)\n",
    "\n",
    "Answer: The 95% confidence interval for the population mean revenue is approximately (486.13,513.87) dollars."
   ]
  },
  {
   "cell_type": "markdown",
   "id": "e8222cfb-b9c5-494c-947b-a03f646b6140",
   "metadata": {},
   "source": [
    "# Q14. A researcher hypothesizes that a new drug will decrease blood pressure by 10 mmHg. They conduct a clinical trial with 100 patients and find that the sample mean decrease in blood pressure is 8 mmHg with a standard deviation of 3 mmHg. Test the hypothesis with a significance level of 0.05."
   ]
  },
  {
   "cell_type": "code",
   "execution_count": null,
   "id": "506cdd44-13d1-4978-a0d1-ce789df30d89",
   "metadata": {},
   "outputs": [],
   "source": [
    "Given data, Hypothesized mean decrease (𝜇0)= 10 mmHg\n",
    "Sample mean decrease =8 mmHg\n",
    "Sample standard deviation (s) = 3 mmHg\n",
    "Sample size (n) = 100\n",
    "Significance level (α) = 0.05\n",
    "\n",
    "1. State the Hypotheses:\n",
    "\n",
    "Null Hypothesis (H0): The drug decreases blood pressure by 10 mmHg, so μ=10.\n",
    "Alternative Hypothesis (H1): The drug does not decrease blood pressure by 10 mmHg, so 𝜇 ≠ 10\n",
    "\n",
    "2. Calculate the t-Statistic:\n",
    "\n",
    "t = 8-10/0.3 = -6.67\n",
    "\n",
    "3. Determine the Critical t-Value:\n",
    "\n",
    "For a two-tailed test with 𝛼=0.05 and 𝑛−1=100−1=99 degrees of freedom, the critical t-value can be found using a\n",
    "t-distribution table or statistical software. For df=99, the critical t-value for a 95% confidence level\n",
    "(two-tailed) is approximately ±1.984.\n",
    "\n",
    "4. Compare the t-Statistic to the Critical t-Value:\n",
    "\n",
    "If ∣t∣ > critical t-value, reject the null hypothesis.\n",
    "If ∣t∣ ≤ critical t-value, fail to reject the null hypothesis.\n",
    "Here, ∣−6.67∣ > 1.984, so we reject the null hypothesis.\n",
    "\n",
    "Conclusion:\n",
    "The calculated t-statistic is approximately -6.67, which is greater in magnitude than the critical t-value of ±1.984.\n",
    "Therefore, at a significance level of 0.05, we reject the null hypothesis. This indicates that there is sufficient\n",
    "evidence to suggest that the drug does not decrease blood pressure by exactly 10 mmHg."
   ]
  },
  {
   "cell_type": "markdown",
   "id": "9c021c81-e71c-483c-b4ef-de5755ea93d7",
   "metadata": {},
   "source": [
    "# Q15. An electronics company produces a certain type of product with a mean weight of 5 pounds and a standard deviation of 0.5 pounds. A random sample of 25 products is taken, and the sample mean weight is found to be 4.8 pounds. Test the hypothesis that the true mean weight of the products is less than 5 pounds with a significance level of 0.01."
   ]
  },
  {
   "cell_type": "code",
   "execution_count": null,
   "id": "2561a3ce-3f87-47e6-b226-87a909e850f9",
   "metadata": {},
   "outputs": [],
   "source": [
    "Given Data:\n",
    "Hypothesized mean weight (μ0) = 5 pounds\n",
    "Sample mean weight () = 4.8 pounds\n",
    "Population standard deviation (σ) = 0.5 pounds\n",
    "Sample size (n) = 25\n",
    "Significance level (α) = 0.01\n",
    "\n",
    "1. State the Hypotheses:\n",
    "\n",
    "Null Hypothesis (H0): The true mean weight is 5 pounds, so μ=5.\n",
    "Alternative Hypothesis (H1): The true mean weight is less than 5 pounds, so μ<5.\n",
    "\n",
    "2. Calculate the z-Statistic:\n",
    "    z = 4.8-5/0.1 = -2.0\n",
    "\n",
    "3. Determine the Critical z-Value:\n",
    "\n",
    "For a one-tailed test with α=0.01, the critical z-value can be found using the z-distribution table. For a 1%\n",
    "significance level (one-tailed), the critical z-value is approximately -2.33.\n",
    "\n",
    "4. Compare the z-Statistic to the Critical z-Value:\n",
    "\n",
    "If z< critical z-value, reject the null hypothesis.\n",
    "If z≥ critical z-value, fail to reject the null hypothesis.\n",
    "\n",
    "Here, z=−2.0, which is greater than -2.33, so we fail to reject the null hypothesis.\n",
    "\n",
    "Conclusion:\n",
    "The calculated z-statistic is -2.0, which is not less than the critical z-value of -2.33 for a significance level of\n",
    "0.01. Therefore, at the 0.01 significance level, we fail to reject the null hypothesis. This indicates that there is\n",
    "not enough evidence to conclude that the true mean weight of the products is less than 5 pounds."
   ]
  },
  {
   "cell_type": "markdown",
   "id": "2afdbbce-2921-4fdd-ba0d-9206cacf4115",
   "metadata": {},
   "source": [
    "# Q16. Two groups of students are given different study materials to prepare for a test. The first group (n1 = 30) has a mean score of 80 with a standard deviation of 10, and the second group (n2 = 40) has a mean score of 75 with a standard deviation of 8. Test the hypothesis that the population means for the two groups are equal with a significance level of 0.01."
   ]
  },
  {
   "cell_type": "code",
   "execution_count": null,
   "id": "298788d7-d7bd-4486-9c84-c1874d38bc43",
   "metadata": {},
   "outputs": [],
   "source": [
    "Given data,\n",
    "\n",
    "Group 1:\n",
    "Sample size (n1) = 30\n",
    "Sample mean () = 80\n",
    "Sample standard deviation (s1) = 10\n",
    "\n",
    "Group 2:\n",
    "Sample size (n2 ) = 40\n",
    "Sample mean () = 75\n",
    "Sample standard deviation (s2) = 8\n",
    "Significance level (α) = 0.01\n",
    "\n",
    "1. State the Hypotheses:\n",
    "\n",
    "Null Hypothesis (H0): The population means are equal, so 𝜇1=𝜇2\n",
    "Alternative Hypothesis (H1): The population means are not equal, so 𝜇1≠𝜇2\n",
    "\n",
    "2. Calculate the Pooled Variance ():\n",
    "\n",
    "sp2 = 2900+2496/68 = 5396/6 = 79.0\n",
    "\n",
    "3. Calculate the Standard Error (SE) of the Difference Between Means:\n",
    "\n",
    "SE = 2.14\n",
    "\n",
    "4. Calculate the t-Statistic:\n",
    "\n",
    "t=80-75/2.14 = 5/2.14 = 2.34\n",
    "\n",
    "5. Determine the Critical t-Value:\n",
    "\n",
    "For a two-tailed test with α=0.01 and 𝑛1+𝑛2−2=68 degrees of freedom, the critical t-value can be found using a\n",
    "t-distribution table or statistical software. For 68 degrees of freedom and α/2=0.005 (two-tailed), the critical\n",
    "t-value is approximately ±2.639.\n",
    "\n",
    "6. Compare the t-Statistic to the Critical t-Value:\n",
    "\n",
    "If ∣t∣ > critical t-value, reject the null hypothesis.\n",
    "If ∣t∣ ≤ critical t-value, fail to reject the null hypothesis.\n",
    "Here, ∣2.34∣ < 2.639, so we fail to reject the null hypothesis.\n",
    "\n",
    "Conclusion:\n",
    "The calculated t-statistic is approximately 2.34, which is less than the critical t-value of ±2.639 for a\n",
    "significance level of 0.01. Therefore, at the 0.01 significance level, we fail to reject the null hypothesis.\n",
    "This indicates that there is not enough evidence to conclude that the population means for the two groups are\n",
    "different."
   ]
  },
  {
   "cell_type": "markdown",
   "id": "ca0b6a40-fcce-4e6d-a443-0840c8b1bbce",
   "metadata": {},
   "source": [
    "# Q17. A marketing company wants to estimate the average number of ads watched by viewers during a TV program. They take a random sample of 50 viewers and find that the sample mean is 4 with a standard deviation of 1.5. Estimate the population mean with a 99% confidence interval."
   ]
  },
  {
   "cell_type": "code",
   "execution_count": null,
   "id": "4f395e8f-5050-4e61-9d5e-d93e27ed6947",
   "metadata": {},
   "outputs": [],
   "source": [
    "1. Identify the given data:\n",
    "Given, Sample size, n=50\n",
    "Sample mean, = 4\n",
    "Sample standard deviation, s=1.5\n",
    "Confidence level = 99%\n",
    "\n",
    "2. Determine the appropriate z-score for a 99% confidence level:\n",
    "For a 99% confidence interval, the z-score corresponds to the critical value that leaves 0.5% in each tail of the\n",
    "standard normal distribution.\n",
    "\n",
    "The z-score for a 99% confidence level is approximately: z=2.576\n",
    "\n",
    "3. Calculate the standard error of the mean (SEM):\n",
    "SEM = 1.5 / 7.071 = 0.2121\n",
    "\n",
    "4. Calculate the margin of error (MOE):\n",
    "          The margin of error is calculated using the formula: MOE = MOE=z×SEM\n",
    "                                                               MOE = 2.576×0.2121≈0.5466\n",
    "\n",
    "5. Calculate the confidence interval:\n",
    "Confidence interval=(4−0.5466,4+0.5466)\n",
    "\n",
    "Confidence interval=(3.4534,4.5466)\n",
    "\n",
    "Answer: The 99% confidence interval for the population mean is approximately (3.4534,4.5466)."
   ]
  },
  {
   "cell_type": "code",
   "execution_count": null,
   "id": "eee8001b-7e86-4926-911d-cd7841a46195",
   "metadata": {},
   "outputs": [],
   "source": []
  },
  {
   "cell_type": "code",
   "execution_count": null,
   "id": "a4b3d43e-7862-41e9-aac5-0dc3f43f1ff2",
   "metadata": {},
   "outputs": [],
   "source": []
  }
 ],
 "metadata": {
  "kernelspec": {
   "display_name": "Python 3 (ipykernel)",
   "language": "python",
   "name": "python3"
  },
  "language_info": {
   "codemirror_mode": {
    "name": "ipython",
    "version": 3
   },
   "file_extension": ".py",
   "mimetype": "text/x-python",
   "name": "python",
   "nbconvert_exporter": "python",
   "pygments_lexer": "ipython3",
   "version": "3.12.4"
  }
 },
 "nbformat": 4,
 "nbformat_minor": 5
}
